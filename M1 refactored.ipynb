{
 "cells": [
  {
   "cell_type": "code",
   "execution_count": 1,
   "id": "8d6fb569-4bff-4970-81cf-acbcc40990ff",
   "metadata": {},
   "outputs": [],
   "source": [
    "import torch\n",
    "import torch.nn as nn\n",
    "import torch.nn.functional as F\n",
    "import torch.optim as optim\n",
    "from torch.utils.data import Dataset, DataLoader\n",
    "from torchvision import datasets, transforms\n",
    "import pandas as pd\n",
    "import numpy as np\n",
    "import matplotlib.pyplot as plt\n",
    "from time import time\n",
    "from tqdm import tqdm"
   ]
  },
  {
   "cell_type": "code",
   "execution_count": 2,
   "id": "33a4304c-9ee9-482f-baa8-f4a9f56c4d0d",
   "metadata": {},
   "outputs": [],
   "source": [
    "trainingDataPath = '100_celebs_dataset/training/'\n",
    "testDataPath = '100_celebs_dataset/test/'\n",
    "criterion = nn.CrossEntropyLoss() # includes softmax function"
   ]
  },
  {
   "cell_type": "code",
   "execution_count": 3,
   "id": "03e2fc4f-17fc-4b86-8a36-741f8da34bdd",
   "metadata": {},
   "outputs": [
    {
     "name": "stdout",
     "output_type": "stream",
     "text": [
      "Using device: cuda\n"
     ]
    }
   ],
   "source": [
    "# Define the device (use GPU if available)\n",
    "device = torch.device('cuda' if torch.cuda.is_available() else 'cpu') # either 'cude' or 'cpu'\n",
    "print(f'Using device: {device}')\n",
    "# If it comes back as cpu, you don't have your gpu set up right to work"
   ]
  },
  {
   "cell_type": "code",
   "execution_count": 4,
   "id": "8acac698-4f53-4827-9f4c-0b8e6bd23104",
   "metadata": {},
   "outputs": [],
   "source": [
    "class twoLayerModel(nn.Module):\n",
    "    # num_classes = number of possible labels\n",
    "    # input_size = size of images\n",
    "    def __init__(self, input_size, hidden_size, num_classes):\n",
    "        super(twoLayerModel, self).__init__()\n",
    "        self.layer1 = nn.Linear(input_size, hidden_size) # Creates a linear layer given the input size and output size\n",
    "        self.layer2 = nn.Linear(hidden_size, num_classes)\n",
    "        self.input_size = input_size\n",
    "\n",
    "    def forward(self, x):\n",
    "        x = x.view(-1, self.input_size)  # Flatten the input tensor, since we got to input it into the layer of the nn (and they don't take matrixes)\n",
    "        x = self.layer1(x) # Layer1\n",
    "        x= F.relu(x) # Activation function pre-Layer 2\n",
    "        return self.layer2(x) # Layer 2, we'll do activFunc in Cross Entropy Loss"
   ]
  },
  {
   "cell_type": "code",
   "execution_count": 5,
   "id": "3b637414-aa24-4e27-a570-4ad7d567d25f",
   "metadata": {},
   "outputs": [],
   "source": [
    "def scale(width):\n",
    "    return transforms.Compose([\n",
    "    transforms.Resize((width, width)),\n",
    "    transforms.Grayscale(num_output_channels=1),\n",
    "    transforms.ToTensor(), # automatically normalizes data from -1 to 1\n",
    "    transforms.Normalize((0.5,), (0.5,)) # further scales it to desired -0.5 and 0.5\n",
    "])"
   ]
  },
  {
   "cell_type": "code",
   "execution_count": 6,
   "id": "e710f3a8-3961-4d20-afaf-8ec040fcd9d4",
   "metadata": {},
   "outputs": [],
   "source": [
    "def getScaledData(scale_width):\n",
    "    trainData = datasets.ImageFolder(root=trainingDataPath, transform=scale(scale_width))\n",
    "    testData = datasets.ImageFolder(root=testDataPath, transform=scale(scale_width))\n",
    "    return trainData, testData"
   ]
  },
  {
   "cell_type": "code",
   "execution_count": 7,
   "id": "2e1101bb-1223-4048-b6db-74caf74c9a59",
   "metadata": {},
   "outputs": [],
   "source": [
    "def train_model(model, train_loader, criterion, optimizer, epochs):\n",
    "    time_start = time()\n",
    "    model.train()  # Set model to training mode\n",
    "    for epoch in range(epochs):\n",
    "        total_loss = 0\n",
    "        for images, labels in train_loader:\n",
    "            images, labels = images.to('cuda'), labels.to('cuda') # Needed to make run on GPU\n",
    "            outputs = model(images)\n",
    "            loss = criterion(outputs, labels)\n",
    "\n",
    "            # Backward pass and optimization\n",
    "            optimizer.zero_grad()\n",
    "            loss.backward()\n",
    "            optimizer.step()\n",
    "\n",
    "            total_loss += loss.item()\n",
    "            \n",
    "        avg_loss = total_loss / len(train_loader)\n",
    "        print(f'Epoch [{epoch+1}/{epochs}], Loss: {avg_loss:.4f}')\n",
    "\n",
    "    time_stop = time()\n",
    "    time_elapsed = time_stop - time_start\n",
    "    print(f'elapsed time {round(time_elapsed,1)} sec.')"
   ]
  },
  {
   "cell_type": "code",
   "execution_count": 13,
   "id": "0548b66f-9538-4450-bac8-bcdc98af3677",
   "metadata": {},
   "outputs": [],
   "source": [
    "def test_model(model, train_loader, test_loader):\n",
    "    model.eval()  # Set model to evaluation mode, just cares about output\n",
    "    correct = 0\n",
    "    total = 0\n",
    "\n",
    "    with torch.no_grad():\n",
    "        for images, labels in train_loader:\n",
    "            images, labels = images.to('cuda'), labels.to('cuda')\n",
    "            outputs = model(images)\n",
    "            _, predicted = torch.max(outputs.data, 1)\n",
    "            total += labels.size(0)\n",
    "            correct += (predicted == labels).sum().item()\n",
    "            \n",
    "    train_acc = 100 * correct / total\n",
    "    correct = 0\n",
    "    total = 0\n",
    "    with torch.no_grad():\n",
    "        for images, labels in test_loader:\n",
    "            images, labels = images.to('cuda'), labels.to('cuda')\n",
    "            outputs = model(images)\n",
    "            _, predicted = torch.max(outputs.data, 1)\n",
    "            total += labels.size(0)\n",
    "            correct += (predicted == labels).sum().item()\n",
    "\n",
    "    test_acc = 100 * correct / total\n",
    "    print(f'Accuracy of the model on the training dataset: {train_acc:.2f}%')\n",
    "    print(f'Accuracy of the model on the test dataset: {test_acc:.2f}%')"
   ]
  },
  {
   "cell_type": "code",
   "execution_count": 17,
   "id": "b3e42884-c62f-474f-8455-a72e81f9eb99",
   "metadata": {},
   "outputs": [],
   "source": [
    "# res: will scale all images down to this width\n",
    "# hidden: number of hidden layers\n",
    "# classes: number of categories in the classification\n",
    "# lr: learning rate\n",
    "# epochs: number of epochs to train for\n",
    "# batchSize: size of batches\n",
    "def train_test(res, hidden, classes, lr, epochs, batchSize):\n",
    "    model = twoLayerModel(res**2, hidden, classes).to('cuda')\n",
    "    optimizer = optim.Adam(model.parameters(), lr=lr)\n",
    "    trainDataSet, testDataSet = getScaledData(res)\n",
    "    trainLoader = DataLoader(dataset=trainDataSet, batch_size=batchSize, shuffle=True, drop_last=True)\n",
    "    testLoader = DataLoader(dataset=testDataSet, batch_size=batchSize, shuffle=False, drop_last=True)\n",
    "    train_model(model, trainLoader, criterion, optimizer, epochs=epochs)\n",
    "    test_model(model, trainLoader, testLoader)"
   ]
  },
  {
   "cell_type": "code",
   "execution_count": 18,
   "id": "9bae9af1-7dbc-44e2-a68a-0efff0ccfc8b",
   "metadata": {},
   "outputs": [
    {
     "name": "stdout",
     "output_type": "stream",
     "text": [
      "Epoch [1/20], Loss: 4.4045\n",
      "Epoch [2/20], Loss: 3.9291\n",
      "Epoch [3/20], Loss: 3.6572\n",
      "Epoch [4/20], Loss: 3.4526\n",
      "Epoch [5/20], Loss: 3.2802\n",
      "Epoch [6/20], Loss: 3.1139\n",
      "Epoch [7/20], Loss: 2.9709\n",
      "Epoch [8/20], Loss: 2.8473\n",
      "Epoch [9/20], Loss: 2.7382\n",
      "Epoch [10/20], Loss: 2.6155\n",
      "Epoch [11/20], Loss: 2.5181\n",
      "Epoch [12/20], Loss: 2.4174\n",
      "Epoch [13/20], Loss: 2.3373\n",
      "Epoch [14/20], Loss: 2.2631\n",
      "Epoch [15/20], Loss: 2.1738\n",
      "Epoch [16/20], Loss: 2.0992\n",
      "Epoch [17/20], Loss: 2.0357\n",
      "Epoch [18/20], Loss: 1.9682\n",
      "Epoch [19/20], Loss: 1.9103\n",
      "Epoch [20/20], Loss: 1.8392\n",
      "elapsed time 495.8 sec.\n",
      "Accuracy of the model on the training dataset: 58.64%\n",
      "Accuracy of the model on the test dataset: 12.40%\n"
     ]
    }
   ],
   "source": [
    "train_test(50, 60, 100, 0.001, 20, 20)"
   ]
  },
  {
   "cell_type": "code",
   "execution_count": null,
   "id": "82e0d168-5041-4756-9d75-778b2d165462",
   "metadata": {},
   "outputs": [],
   "source": []
  }
 ],
 "metadata": {
  "kernelspec": {
   "display_name": "Python 3 (ipykernel)",
   "language": "python",
   "name": "python3"
  },
  "language_info": {
   "codemirror_mode": {
    "name": "ipython",
    "version": 3
   },
   "file_extension": ".py",
   "mimetype": "text/x-python",
   "name": "python",
   "nbconvert_exporter": "python",
   "pygments_lexer": "ipython3",
   "version": "3.11.9"
  }
 },
 "nbformat": 4,
 "nbformat_minor": 5
}
